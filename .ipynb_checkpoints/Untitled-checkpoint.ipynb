{
 "cells": [
  {
   "cell_type": "markdown",
   "id": "47f91306",
   "metadata": {},
   "source": [
    "# PROJECTS\n",
    "## TEDTALKS DATA VISUALIZATION:\n",
    "![Dashboard_screenshot](Screenshots\\ss1.png)\n",
    "\n",
    "![Dashboard_screenshot](Screenshots/ss2.png)\n",
    "\n",
    "<br> Most successful Ted Talk was **Do schools kill creativity by speaker** by **Sir Ken Robinston** with most views **(72M)** and likes **(2.1M)** on average in February and most popular year (based on average views) 2006.  \n",
    "\n",
    "<br> Top speaker was **Alex Gandler** with **5.7M** likes and **187M** views.\n"
   ]
  },
  {
   "cell_type": "markdown",
   "id": "e8113aa9",
   "metadata": {},
   "source": []
  },
  {
   "cell_type": "code",
   "execution_count": 1,
   "id": "b95773d2",
   "metadata": {},
   "outputs": [
    {
     "ename": "SyntaxError",
     "evalue": "invalid syntax (Temp/ipykernel_11344/585525271.py, line 1)",
     "output_type": "error",
     "traceback": [
      "\u001b[1;36m  File \u001b[1;32m\"C:\\Users\\Ennas\\AppData\\Local\\Temp/ipykernel_11344/585525271.py\"\u001b[1;36m, line \u001b[1;32m1\u001b[0m\n\u001b[1;33m    Samajh gai???\u001b[0m\n\u001b[1;37m           ^\u001b[0m\n\u001b[1;31mSyntaxError\u001b[0m\u001b[1;31m:\u001b[0m invalid syntax\n"
     ]
    }
   ],
   "source": [
    "#Samajh gai???\n",
    "#Headings ke liay # \n",
    "#Normal paragraph jese likhte hain wese hee\n",
    "#And image ke liay ![image name kuch bhi apni taraf se ](mage ki locations, notebook jis folder m h uske hisaab se)\n",
    "#abhi path ye hoga (Screenshots/SS1.png) usi folder m baki pics dalti rehna and SS2 SS3 istarah name rakhdena\n",
    "\n",
    "#phr? phr ye pura copy kar"
   ]
  },
  {
   "cell_type": "markdown",
   "id": "018c5344",
   "metadata": {},
   "source": [
    "## EMPLOYEE DATA VISUALIZATION:\n",
    "![Dashboard_screenshot](Screenshots\\ss3.png)\n",
    "\n",
    "\n",
    "\n"
   ]
  },
  {
   "cell_type": "code",
   "execution_count": null,
   "id": "aace9083",
   "metadata": {},
   "outputs": [],
   "source": []
  },
  {
   "cell_type": "code",
   "execution_count": 2,
   "id": "d9a937bd",
   "metadata": {},
   "outputs": [
    {
     "ename": "SyntaxError",
     "evalue": "invalid syntax (Temp/ipykernel_11344/3644141484.py, line 2)",
     "output_type": "error",
     "traceback": [
      "\u001b[1;36m  File \u001b[1;32m\"C:\\Users\\Ennas\\AppData\\Local\\Temp/ipykernel_11344/3644141484.py\"\u001b[1;36m, line \u001b[1;32m2\u001b[0m\n\u001b[1;33m    thora thora\u001b[0m\n\u001b[1;37m          ^\u001b[0m\n\u001b[1;31mSyntaxError\u001b[0m\u001b[1;31m:\u001b[0m invalid syntax\n"
     ]
    }
   ],
   "source": []
  },
  {
   "cell_type": "code",
   "execution_count": null,
   "id": "525af3d3",
   "metadata": {},
   "outputs": [],
   "source": [
    "\n",
    "ye format h square bracket e likhdo image ka round bracket m path\n",
    "bas phir sara readme.md file m copy kro note pad m kholke usko\n",
    "phir save karo\n",
    "phir ye commands chala do cmd pe\n",
    "git add . (dot dalna mat bhulna)\n",
    "git commit \"kuch bhi msg k kia add kia\"\n",
    "git push origin main\n",
    "bas phit ajaega repo pe, agar image show na ho uski jaga koi link show ho matlab image ka path sahi nahi dia ya captial small letter ka difference h\n",
    "\n",
    "screenshot ki detailing kahan dalun \n",
    "wh insights\n",
    "set h?\n",
    "hn \n",
    "Allah janay ab kitna pallay para \n",
    "bouncer bhi gya \n",
    "dekhty main \n",
    "so jao tmm \n",
    "aur shukra bht \n",
    "ab ignre mara tou wahan aake marungy \n",
    "XD bouncer kia gya\n",
    "\n",
    "abhi jab tmhain dubara tang krungy na phrpata chalay ga \n",
    "XD\n",
    "suno sab save marooooooo \n",
    "taalke kuch na uray \n",
    "\n",
    "ho ya agya?\n",
    "Allah Hafiz\n",
    "Allah hafiz \n"
   ]
  }
 ],
 "metadata": {
  "kernelspec": {
   "display_name": "Python 3 (ipykernel)",
   "language": "python",
   "name": "python3"
  },
  "language_info": {
   "codemirror_mode": {
    "name": "ipython",
    "version": 3
   },
   "file_extension": ".py",
   "mimetype": "text/x-python",
   "name": "python",
   "nbconvert_exporter": "python",
   "pygments_lexer": "ipython3",
   "version": "3.9.7"
  }
 },
 "nbformat": 4,
 "nbformat_minor": 5
}
