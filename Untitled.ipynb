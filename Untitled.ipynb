{
 "cells": [
  {
   "cell_type": "markdown",
   "id": "03103f61",
   "metadata": {},
   "source": [
    "### Test Dashboard\n",
    "\n",
    "\n",
    "Testing my dashboard\n",
    "\n",
    "![Dashboard_screenshot](Screenshots/SS1.png)"
   ]
  },
  {
   "cell_type": "code",
   "execution_count": null,
   "id": "b3528f95",
   "metadata": {},
   "outputs": [],
   "source": [
    "Samajh gai???\n",
    "Headings ke liay # \n",
    "Normal paragraph jese likhte hain wese hee\n",
    "And image ke liay ![image name kuch bhi apni taraf se ](mage ki locations, notebook jis folder m h uske hisaab se)\n",
    "abhi path ye hoga (Screenshots/SS1.png) usi folder m baki pics dalti rehna and SS2 SS3 istarah name rakhdena\n",
    "\n",
    "phr? phr ye pura copy kar"
   ]
  }
 ],
 "metadata": {
  "kernelspec": {
   "display_name": "Python 3 (ipykernel)",
   "language": "python",
   "name": "python3"
  },
  "language_info": {
   "codemirror_mode": {
    "name": "ipython",
    "version": 3
   },
   "file_extension": ".py",
   "mimetype": "text/x-python",
   "name": "python",
   "nbconvert_exporter": "python",
   "pygments_lexer": "ipython3",
   "version": "3.9.7"
  }
 },
 "nbformat": 4,
 "nbformat_minor": 5
}
