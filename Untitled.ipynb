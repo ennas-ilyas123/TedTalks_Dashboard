{
 "cells": [
  {
   "cell_type": "markdown",
   "id": "47f91306",
   "metadata": {},
   "source": [
    "# PROJECTS\n",
    "## TEDTALKS DATA VISUALIZATION:\n",
    "![Dashboard_screenshot](Screenshots\\ss1.png)\n",
    "\n",
    "![Dashboard_screenshot](Screenshots/ss2.png)\n",
    "\n",
    "<br> Most successful Ted Talk was **Do schools kill creativity by speaker** by **Sir Ken Robinston** with most views **(72M)** and likes **(2.1M)** on average in February and most popular year (based on average views) 2006.  \n",
    "\n",
    "<br> Top speaker was **Alex Gandler** with **5.7M** likes and **187M** views.\n",
    "\n",
    "## EMPLOYEE DATA VISUALIZATION:\n",
    "![Dashboard_screenshot](Screenshots\\ss3.png)"
   ]
  },
  {
   "cell_type": "markdown",
   "id": "e8113aa9",
   "metadata": {},
   "source": []
  },
  {
   "cell_type": "code",
   "execution_count": 1,
   "id": "b95773d2",
   "metadata": {},
   "outputs": [
    {
     "ename": "SyntaxError",
     "evalue": "invalid syntax (Temp/ipykernel_11344/585525271.py, line 1)",
     "output_type": "error",
     "traceback": [
      "\u001b[1;36m  File \u001b[1;32m\"C:\\Users\\Ennas\\AppData\\Local\\Temp/ipykernel_11344/585525271.py\"\u001b[1;36m, line \u001b[1;32m1\u001b[0m\n\u001b[1;33m    Samajh gai???\u001b[0m\n\u001b[1;37m           ^\u001b[0m\n\u001b[1;31mSyntaxError\u001b[0m\u001b[1;31m:\u001b[0m invalid syntax\n"
     ]
    }
   ],
   "source": []
  },
  {
   "cell_type": "markdown",
   "id": "018c5344",
   "metadata": {},
   "source": [
    "\n",
    "\n",
    "\n"
   ]
  },
  {
   "cell_type": "code",
   "execution_count": null,
   "id": "aace9083",
   "metadata": {},
   "outputs": [],
   "source": []
  },
  {
   "cell_type": "code",
   "execution_count": 2,
   "id": "d9a937bd",
   "metadata": {},
   "outputs": [
    {
     "ename": "SyntaxError",
     "evalue": "invalid syntax (Temp/ipykernel_11344/3644141484.py, line 2)",
     "output_type": "error",
     "traceback": [
      "\u001b[1;36m  File \u001b[1;32m\"C:\\Users\\Ennas\\AppData\\Local\\Temp/ipykernel_11344/3644141484.py\"\u001b[1;36m, line \u001b[1;32m2\u001b[0m\n\u001b[1;33m    thora thora\u001b[0m\n\u001b[1;37m          ^\u001b[0m\n\u001b[1;31mSyntaxError\u001b[0m\u001b[1;31m:\u001b[0m invalid syntax\n"
     ]
    }
   ],
   "source": []
  },
  {
   "cell_type": "code",
   "execution_count": null,
   "id": "525af3d3",
   "metadata": {},
   "outputs": [],
   "source": []
  }
 ],
 "metadata": {
  "kernelspec": {
   "display_name": "Python 3 (ipykernel)",
   "language": "python",
   "name": "python3"
  },
  "language_info": {
   "codemirror_mode": {
    "name": "ipython",
    "version": 3
   },
   "file_extension": ".py",
   "mimetype": "text/x-python",
   "name": "python",
   "nbconvert_exporter": "python",
   "pygments_lexer": "ipython3",
   "version": "3.9.7"
  }
 },
 "nbformat": 4,
 "nbformat_minor": 5
}
